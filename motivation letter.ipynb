{
 "cells": [
  {
   "cell_type": "markdown",
   "metadata": {},
   "source": [
    "### Мотивационное письмо"
   ]
  },
  {
   "cell_type": "markdown",
   "metadata": {},
   "source": [
    "1. Казакбаев Рустем Альбертович\n",
    "2. 185\n",
    "3. за теорвер: 7, за стат без экзамаена 6.19\n",
    "4. думаю один из лучших на фэне, судя по накопу нода\n",
    "5. часто использую @inlatexbot в телеграме\n",
    "$\\frac {1} {n}$ или $H_0: \\mu_0 = 10$ или вот так могу $$E(\\sum(X_i-X_1)^2) = E(\\sum({X_i^2-2*X_1*X_i+X_i})^2) = $"
   ]
  },
  {
   "cell_type": "code",
   "execution_count": null,
   "metadata": {},
   "outputs": [],
   "source": []
  }
 ],
 "metadata": {
  "kernelspec": {
   "display_name": "Python 3",
   "language": "python",
   "name": "python3"
  },
  "language_info": {
   "codemirror_mode": {
    "name": "ipython",
    "version": 3
   },
   "file_extension": ".py",
   "mimetype": "text/x-python",
   "name": "python",
   "nbconvert_exporter": "python",
   "pygments_lexer": "ipython3",
   "version": "3.7.6"
  }
 },
 "nbformat": 4,
 "nbformat_minor": 4
}
